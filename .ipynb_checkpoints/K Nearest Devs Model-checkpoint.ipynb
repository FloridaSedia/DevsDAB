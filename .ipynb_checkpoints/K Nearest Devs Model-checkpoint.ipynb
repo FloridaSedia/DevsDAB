{
 "cells": [
  {
   "cell_type": "code",
   "execution_count": 1,
   "id": "d571c59f",
   "metadata": {},
   "outputs": [],
   "source": [
    "# import models\n",
    "import pandas as pd\n",
    "import numpy as np\n",
    "from sklearn.neighbors import KNeighborsClassifier"
   ]
  },
  {
   "cell_type": "code",
   "execution_count": 2,
   "id": "3a6b6813",
   "metadata": {},
   "outputs": [],
   "source": [
    "# importing Training Data \n",
    "x = pd.read_csv('Training.csv')\n",
    "y = x.pop('prognosis')\n"
   ]
  },
  {
   "cell_type": "code",
   "execution_count": 3,
   "id": "53ce3c69",
   "metadata": {},
   "outputs": [],
   "source": [
    "#importing Testing Data\n",
    "x1= pd.read_csv('Testing.csv')\n",
    "y1= x1.pop('prognosis')"
   ]
  },
  {
   "cell_type": "code",
   "execution_count": 4,
   "id": "17b168ef",
   "metadata": {},
   "outputs": [],
   "source": [
    "# initializing the model\n",
    "model = KNeighborsClassifier()"
   ]
  },
  {
   "cell_type": "code",
   "execution_count": 5,
   "id": "31e5ce9c",
   "metadata": {},
   "outputs": [],
   "source": [
    "# training the model\n",
    "model = model.fit(x,y)"
   ]
  },
  {
   "cell_type": "code",
   "execution_count": 6,
   "id": "57a9fe25",
   "metadata": {},
   "outputs": [],
   "source": [
    "# Testing the model\n",
    "y_predict = model.predict(x1)"
   ]
  },
  {
   "cell_type": "code",
   "execution_count": 7,
   "id": "42a1f8ba",
   "metadata": {},
   "outputs": [],
   "source": [
    "# Evaluating the model\n",
    "from sklearn.metrics import accuracy_score,confusion_matrix\n",
    "score = accuracy_score(y1,y_predict)"
   ]
  },
  {
   "cell_type": "code",
   "execution_count": 8,
   "id": "b46f3bdb",
   "metadata": {},
   "outputs": [
    {
     "data": {
      "text/plain": [
       "1.0"
      ]
     },
     "execution_count": 8,
     "metadata": {},
     "output_type": "execute_result"
    }
   ],
   "source": [
    "# Display Score\n",
    "score"
   ]
  }
 ],
 "metadata": {
  "kernelspec": {
   "display_name": "Python 3",
   "language": "python",
   "name": "python3"
  },
  "language_info": {
   "codemirror_mode": {
    "name": "ipython",
    "version": 3
   },
   "file_extension": ".py",
   "mimetype": "text/x-python",
   "name": "python",
   "nbconvert_exporter": "python",
   "pygments_lexer": "ipython3",
   "version": "3.8.8"
  }
 },
 "nbformat": 4,
 "nbformat_minor": 5
}
